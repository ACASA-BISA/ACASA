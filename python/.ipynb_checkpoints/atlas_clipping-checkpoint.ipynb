{
 "cells": [
  {
   "cell_type": "code",
   "execution_count": 5,
   "id": "8f1bbe7f-45ad-4d89-9650-8b15568bf894",
   "metadata": {},
   "outputs": [],
   "source": [
    "# Importing packages required for the clipping algorithm\n",
    "import os\n",
    "import geopandas as gpd\n",
    "import matplotlib.pyplot as plt\n",
    "import folium\n",
    "from shapely.geometry import box"
   ]
  },
  {
   "cell_type": "code",
   "execution_count": 10,
   "id": "a1dd7d43-3a85-4015-add8-d932e18f9f69",
   "metadata": {},
   "outputs": [],
   "source": [
    "# Function to clip all the maps \n",
    "def clip_map(map_path, overlay, output_folder, country_code, map_type):\n",
    "    # Fetching the maps\n",
    "    map_data = gpd.read_file(map_path)\n",
    "    overlay = gpd.read_file(overlay)\n",
    "\n",
    "    # Clippin the maps with the overlay\n",
    "    clipped_map = gpd.clip(map_data, overlay)\n",
    "\n",
    "    # Creating the output folder in case it does not exist\n",
    "    country_folder = os.path.join(output_folder, country_folder)\n",
    "    if not os.path.exists(country_folder):\n",
    "        os.makedirs(country_folder)\n",
    "\n",
    "    # Creating subfolders for different kinds of maps\n",
    "    map_folder = os.path.join(country_folder, map_type)\n",
    "    if not os.path.exists(map_folder):\n",
    "        os.makedirs(map_folder)\n",
    "    \n",
    "    # Save the clipped map with a country prefix in the file name\n",
    "    output_path = os.path.join(map_folder, f\"{country_code}_{map_type}_clipped_map.shp\")\n",
    "    clipped_map.to_file(output_path)\n",
    "    print(f\"Clipped map saved as {output_path}\")\n",
    "\n",
    "\n",
    "        \n"
   ]
  }
 ],
 "metadata": {
  "kernelspec": {
   "display_name": "Python 3 (ipykernel)",
   "language": "python",
   "name": "python3"
  },
  "language_info": {
   "codemirror_mode": {
    "name": "ipython",
    "version": 3
   },
   "file_extension": ".py",
   "mimetype": "text/x-python",
   "name": "python",
   "nbconvert_exporter": "python",
   "pygments_lexer": "ipython3",
   "version": "3.9.21"
  }
 },
 "nbformat": 4,
 "nbformat_minor": 5
}
