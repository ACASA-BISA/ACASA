{
 "cells": [
  {
   "cell_type": "code",
   "execution_count": 2,
   "id": "8f1bbe7f-45ad-4d89-9650-8b15568bf894",
   "metadata": {},
   "outputs": [],
   "source": [
    "# Importing packages required for the clipping algorithm\n",
    "import os\n",
    "import geopandas as gpd\n",
    "import rasterio\n",
    "from rasterio.mask import mask\n",
    "import shutil"
   ]
  },
  {
   "cell_type": "code",
   "execution_count": 2,
   "id": "a1dd7d43-3a85-4015-add8-d932e18f9f69",
   "metadata": {},
   "outputs": [],
   "source": [
    "# Function to clip all the maps \n",
    "def clip_maps(input_folder, overlay_path, output_folder, country_code):\n",
    "    # Read the overlay file\n",
    "    overlay = gpd.read_file(overlay_path)\n",
    "    \n",
    "    # Walk through all files and subdirectories\n",
    "    for root, _, files in os.walk(input_folder):\n",
    "        for file in files:\n",
    "            input_path = os.path.join(root, file)\n",
    "            \n",
    "            # Preserve folder structure in output\n",
    "            relative_path = os.path.relpath(root, input_folder)\n",
    "            output_subfolder = os.path.join(output_folder, relative_path)\n",
    "            os.makedirs(output_subfolder, exist_ok=True)\n",
    "            \n",
    "            if file.endswith(\".shp\") or file.endswith(\".geojson\"):\n",
    "                # Clip vector files\n",
    "                try:\n",
    "                    data = gpd.read_file(input_path)\n",
    "                    clipped_data = gpd.clip(data, overlay)\n",
    "                    output_path = os.path.join(output_subfolder, f\"{country_code}_{file}\")\n",
    "                    clipped_data.to_file(output_path)\n",
    "                    print(f\"Saved clipped vector: {output_path}\")\n",
    "                except Exception as e:\n",
    "                    print(f\"Error clipping vector {file}: {e}\")\n",
    "            \n",
    "            elif file.endswith(\".tif\") or file.endswith(\".tiff\"):\n",
    "                # Clip raster files\n",
    "                try:\n",
    "                    with rasterio.open(input_path) as src:\n",
    "                        out_image, out_transform = mask(src, overlay.geometry, crop=True)\n",
    "                        out_meta = src.meta.copy()\n",
    "                        \n",
    "                        # Update metadata\n",
    "                        out_meta.update({\n",
    "                            \"driver\": \"GTiff\",\n",
    "                            \"height\": out_image.shape[1],\n",
    "                            \"width\": out_image.shape[2],\n",
    "                            \"transform\": out_transform\n",
    "                        })\n",
    "                        \n",
    "                        output_path = os.path.join(output_subfolder, f\"{country_code}_{file}\")\n",
    "                        with rasterio.open(output_path, \"w\", **out_meta) as dest:\n",
    "                            dest.write(out_image)\n",
    "                        print(f\"Saved clipped raster: {output_path}\")\n",
    "                except Exception as e:\n",
    "                    print(f\"Error clipping raster {file}: {e}\")"
   ]
  },
  {
   "cell_type": "code",
   "execution_count": null,
   "id": "7eb101ac-cd63-48b9-9d83-85b601698c0f",
   "metadata": {},
   "outputs": [],
   "source": []
  }
 ],
 "metadata": {
  "kernelspec": {
   "display_name": "Python 3 (ipykernel)",
   "language": "python",
   "name": "python3"
  },
  "language_info": {
   "codemirror_mode": {
    "name": "ipython",
    "version": 3
   },
   "file_extension": ".py",
   "mimetype": "text/x-python",
   "name": "python",
   "nbconvert_exporter": "python",
   "pygments_lexer": "ipython3",
   "version": "3.9.21"
  }
 },
 "nbformat": 4,
 "nbformat_minor": 5
}
